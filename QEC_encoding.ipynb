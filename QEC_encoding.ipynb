{
  "nbformat": 4,
  "nbformat_minor": 0,
  "metadata": {
    "colab": {
      "provenance": [],
      "collapsed_sections": [
        "LVzSFnB_Tz6S"
      ]
    },
    "kernelspec": {
      "name": "python3",
      "display_name": "Python 3"
    },
    "language_info": {
      "name": "python"
    }
  },
  "cells": [
    {
      "cell_type": "code",
      "source": [
        "!pip install qiskit\n",
        "!pip install qiskit-aer # Install the qiskit-aer package"
      ],
      "metadata": {
        "colab": {
          "base_uri": "https://localhost:8080/"
        },
        "collapsed": true,
        "id": "VFKl3f2n-0A_",
        "outputId": "d47b7ddb-835e-4301-f037-3f0fe160f035"
      },
      "execution_count": 2,
      "outputs": [
        {
          "output_type": "stream",
          "name": "stdout",
          "text": [
            "Collecting qiskit\n",
            "  Downloading qiskit-1.4.2-cp39-abi3-manylinux_2_17_x86_64.manylinux2014_x86_64.whl.metadata (12 kB)\n",
            "Collecting rustworkx>=0.15.0 (from qiskit)\n",
            "  Downloading rustworkx-0.16.0-cp39-abi3-manylinux_2_17_x86_64.manylinux2014_x86_64.whl.metadata (10 kB)\n",
            "Requirement already satisfied: numpy<3,>=1.17 in /usr/local/lib/python3.11/dist-packages (from qiskit) (2.0.2)\n",
            "Requirement already satisfied: scipy>=1.5 in /usr/local/lib/python3.11/dist-packages (from qiskit) (1.14.1)\n",
            "Requirement already satisfied: sympy>=1.3 in /usr/local/lib/python3.11/dist-packages (from qiskit) (1.13.1)\n",
            "Collecting dill>=0.3 (from qiskit)\n",
            "  Downloading dill-0.3.9-py3-none-any.whl.metadata (10 kB)\n",
            "Requirement already satisfied: python-dateutil>=2.8.0 in /usr/local/lib/python3.11/dist-packages (from qiskit) (2.8.2)\n",
            "Collecting stevedore>=3.0.0 (from qiskit)\n",
            "  Downloading stevedore-5.4.1-py3-none-any.whl.metadata (2.3 kB)\n",
            "Requirement already satisfied: typing-extensions in /usr/local/lib/python3.11/dist-packages (from qiskit) (4.12.2)\n",
            "Collecting symengine<0.14,>=0.11 (from qiskit)\n",
            "  Downloading symengine-0.13.0-cp311-cp311-manylinux_2_17_x86_64.manylinux2014_x86_64.whl.metadata (1.2 kB)\n",
            "Requirement already satisfied: six>=1.5 in /usr/local/lib/python3.11/dist-packages (from python-dateutil>=2.8.0->qiskit) (1.17.0)\n",
            "Collecting pbr>=2.0.0 (from stevedore>=3.0.0->qiskit)\n",
            "  Downloading pbr-6.1.1-py2.py3-none-any.whl.metadata (3.4 kB)\n",
            "Requirement already satisfied: mpmath<1.4,>=1.1.0 in /usr/local/lib/python3.11/dist-packages (from sympy>=1.3->qiskit) (1.3.0)\n",
            "Requirement already satisfied: setuptools in /usr/local/lib/python3.11/dist-packages (from pbr>=2.0.0->stevedore>=3.0.0->qiskit) (75.1.0)\n",
            "Downloading qiskit-1.4.2-cp39-abi3-manylinux_2_17_x86_64.manylinux2014_x86_64.whl (6.8 MB)\n",
            "\u001b[2K   \u001b[90m━━━━━━━━━━━━━━━━━━━━━━━━━━━━━━━━━━━━━━━━\u001b[0m \u001b[32m6.8/6.8 MB\u001b[0m \u001b[31m46.2 MB/s\u001b[0m eta \u001b[36m0:00:00\u001b[0m\n",
            "\u001b[?25hDownloading dill-0.3.9-py3-none-any.whl (119 kB)\n",
            "\u001b[2K   \u001b[90m━━━━━━━━━━━━━━━━━━━━━━━━━━━━━━━━━━━━━━━━\u001b[0m \u001b[32m119.4/119.4 kB\u001b[0m \u001b[31m9.0 MB/s\u001b[0m eta \u001b[36m0:00:00\u001b[0m\n",
            "\u001b[?25hDownloading rustworkx-0.16.0-cp39-abi3-manylinux_2_17_x86_64.manylinux2014_x86_64.whl (2.1 MB)\n",
            "\u001b[2K   \u001b[90m━━━━━━━━━━━━━━━━━━━━━━━━━━━━━━━━━━━━━━━━\u001b[0m \u001b[32m2.1/2.1 MB\u001b[0m \u001b[31m45.5 MB/s\u001b[0m eta \u001b[36m0:00:00\u001b[0m\n",
            "\u001b[?25hDownloading stevedore-5.4.1-py3-none-any.whl (49 kB)\n",
            "\u001b[2K   \u001b[90m━━━━━━━━━━━━━━━━━━━━━━━━━━━━━━━━━━━━━━━━\u001b[0m \u001b[32m49.5/49.5 kB\u001b[0m \u001b[31m3.2 MB/s\u001b[0m eta \u001b[36m0:00:00\u001b[0m\n",
            "\u001b[?25hDownloading symengine-0.13.0-cp311-cp311-manylinux_2_17_x86_64.manylinux2014_x86_64.whl (49.7 MB)\n",
            "\u001b[2K   \u001b[90m━━━━━━━━━━━━━━━━━━━━━━━━━━━━━━━━━━━━━━━━\u001b[0m \u001b[32m49.7/49.7 MB\u001b[0m \u001b[31m14.6 MB/s\u001b[0m eta \u001b[36m0:00:00\u001b[0m\n",
            "\u001b[?25hDownloading pbr-6.1.1-py2.py3-none-any.whl (108 kB)\n",
            "\u001b[2K   \u001b[90m━━━━━━━━━━━━━━━━━━━━━━━━━━━━━━━━━━━━━━━━\u001b[0m \u001b[32m109.0/109.0 kB\u001b[0m \u001b[31m7.6 MB/s\u001b[0m eta \u001b[36m0:00:00\u001b[0m\n",
            "\u001b[?25hInstalling collected packages: symengine, rustworkx, pbr, dill, stevedore, qiskit\n",
            "Successfully installed dill-0.3.9 pbr-6.1.1 qiskit-1.4.2 rustworkx-0.16.0 stevedore-5.4.1 symengine-0.13.0\n",
            "Collecting qiskit-aer\n",
            "  Downloading qiskit_aer-0.17.0-cp311-cp311-manylinux_2_17_x86_64.manylinux2014_x86_64.whl.metadata (8.2 kB)\n",
            "Requirement already satisfied: qiskit>=1.1.0 in /usr/local/lib/python3.11/dist-packages (from qiskit-aer) (1.4.2)\n",
            "Requirement already satisfied: numpy>=1.16.3 in /usr/local/lib/python3.11/dist-packages (from qiskit-aer) (2.0.2)\n",
            "Requirement already satisfied: scipy>=1.0 in /usr/local/lib/python3.11/dist-packages (from qiskit-aer) (1.14.1)\n",
            "Requirement already satisfied: psutil>=5 in /usr/local/lib/python3.11/dist-packages (from qiskit-aer) (5.9.5)\n",
            "Requirement already satisfied: rustworkx>=0.15.0 in /usr/local/lib/python3.11/dist-packages (from qiskit>=1.1.0->qiskit-aer) (0.16.0)\n",
            "Requirement already satisfied: sympy>=1.3 in /usr/local/lib/python3.11/dist-packages (from qiskit>=1.1.0->qiskit-aer) (1.13.1)\n",
            "Requirement already satisfied: dill>=0.3 in /usr/local/lib/python3.11/dist-packages (from qiskit>=1.1.0->qiskit-aer) (0.3.9)\n",
            "Requirement already satisfied: python-dateutil>=2.8.0 in /usr/local/lib/python3.11/dist-packages (from qiskit>=1.1.0->qiskit-aer) (2.8.2)\n",
            "Requirement already satisfied: stevedore>=3.0.0 in /usr/local/lib/python3.11/dist-packages (from qiskit>=1.1.0->qiskit-aer) (5.4.1)\n",
            "Requirement already satisfied: typing-extensions in /usr/local/lib/python3.11/dist-packages (from qiskit>=1.1.0->qiskit-aer) (4.12.2)\n",
            "Requirement already satisfied: symengine<0.14,>=0.11 in /usr/local/lib/python3.11/dist-packages (from qiskit>=1.1.0->qiskit-aer) (0.13.0)\n",
            "Requirement already satisfied: six>=1.5 in /usr/local/lib/python3.11/dist-packages (from python-dateutil>=2.8.0->qiskit>=1.1.0->qiskit-aer) (1.17.0)\n",
            "Requirement already satisfied: pbr>=2.0.0 in /usr/local/lib/python3.11/dist-packages (from stevedore>=3.0.0->qiskit>=1.1.0->qiskit-aer) (6.1.1)\n",
            "Requirement already satisfied: mpmath<1.4,>=1.1.0 in /usr/local/lib/python3.11/dist-packages (from sympy>=1.3->qiskit>=1.1.0->qiskit-aer) (1.3.0)\n",
            "Requirement already satisfied: setuptools in /usr/local/lib/python3.11/dist-packages (from pbr>=2.0.0->stevedore>=3.0.0->qiskit>=1.1.0->qiskit-aer) (75.1.0)\n",
            "Downloading qiskit_aer-0.17.0-cp311-cp311-manylinux_2_17_x86_64.manylinux2014_x86_64.whl (12.4 MB)\n",
            "\u001b[2K   \u001b[90m━━━━━━━━━━━━━━━━━━━━━━━━━━━━━━━━━━━━━━━━\u001b[0m \u001b[32m12.4/12.4 MB\u001b[0m \u001b[31m92.1 MB/s\u001b[0m eta \u001b[36m0:00:00\u001b[0m\n",
            "\u001b[?25hInstalling collected packages: qiskit-aer\n",
            "Successfully installed qiskit-aer-0.17.0\n"
          ]
        }
      ]
    },
    {
      "cell_type": "code",
      "source": [
        "import numpy as np\n",
        "\n",
        "# Import Qiskit\n",
        "from qiskit  import QuantumCircuit, ClassicalRegister, QuantumRegister\n",
        "from qiskit_aer import AerSimulator\n",
        "from qiskit.visualization import plot_histogram, plot_state_city\n",
        "import qiskit.quantum_info as qi\n",
        "from qiskit.circuit import IfElseOp\n",
        "from qiskit import transpile # import the transpile function"
      ],
      "metadata": {
        "id": "aqvNub6kVSMa"
      },
      "execution_count": 3,
      "outputs": []
    },
    {
      "cell_type": "markdown",
      "source": [
        "# BIT-FLIP ERROR"
      ],
      "metadata": {
        "id": "u59RqSS3ToRM"
      }
    },
    {
      "cell_type": "markdown",
      "source": [
        "$$\n",
        "\\begin{array}{|c|c|c|}\n",
        "    \\hline\n",
        "    \\textbf{cr[3]} & \\textbf{cr[4]} & \\textbf{Error Location} \\\\ \\hline\n",
        "    0 & 0 & \\text{No error} \\\\ \\hline\n",
        "    1 & 1 & q_1 \\text{ flipped} \\\\ \\hline\n",
        "    1 & 0 & q_0 \\text{ flipped} \\\\ \\hline\n",
        "    0 & 1 & q_2 \\text{ flipped} \\\\ \\hline\n",
        "\\end{array}\n",
        "$$\n"
      ],
      "metadata": {
        "id": "D-2r-lo9Xj-b"
      }
    },
    {
      "cell_type": "markdown",
      "source": [
        "## State |000> or |111>"
      ],
      "metadata": {
        "id": "2ZM_TYkWeSit"
      }
    },
    {
      "cell_type": "code",
      "source": [
        "# Step 0: if x = 0 => |000>       if x = 1 => |111>\n",
        "x = 1\n",
        "\n",
        "# Step 1: Create a 5-qubit circuit (3 data + 2 ancilla for error detection and correction)\n",
        "qr = QuantumRegister(5, 'q')  # Quantum register with 5 qubits\n",
        "cr = ClassicalRegister(5, 'c')  # Classical register with 5 classical bits\n",
        "circuit = QuantumCircuit(qr, cr)\n",
        "\n",
        "# Step 2: Encode the single bit\n",
        "if x == 0:\n",
        "    # Encoding |0⟩ -> |000⟩\n",
        "    circuit.cx(qr[0], qr[1])\n",
        "    circuit.cx(qr[0], qr[2])\n",
        "else:\n",
        "    # Encoding |1⟩ -> |111⟩\n",
        "    circuit.x(qr[0])\n",
        "    circuit.cx(qr[0], qr[1])\n",
        "    circuit.cx(qr[0], qr[2])\n",
        "\n",
        "\n",
        "# Step 3: Simulated error (choose one qubit to introduce an error)\n",
        "#circuit.x(qr[0])\n",
        "#circuit.x(qr[1])\n",
        "circuit.x(qr[2])\n",
        "\n",
        "\n",
        "# Step 4: Syndrome measurement to detect errors\n",
        "circuit.cx(qr[0], qr[3])\n",
        "circuit.cx(qr[1], qr[3])\n",
        "circuit.cx(qr[1], qr[4])\n",
        "circuit.cx(qr[2], qr[4])\n",
        "\n",
        "# Step 5: Barrier before measurement\n",
        "circuit.barrier([qr[3], qr[4]])\n",
        "\n",
        "# Step 6: Measure the ancilla qubits (syndrome extraction)\n",
        "circuit.measure([qr[3], qr[4]], [cr[3], cr[4]])\n",
        "\n",
        "# Step 7: Apply correction based on measured syndrome\n",
        "with circuit.if_test((cr[3], 1)):  # If cr[3] == 1\n",
        "    with circuit.if_test((cr[4], 1)):  # If cr[4] == 1\n",
        "        circuit.x(qr[1])  #  Correct q1\n",
        "    with circuit.if_test((cr[4], 0)):  # If cr[4] == 0\n",
        "         circuit.x(qr[0])  # Correct q_0\n",
        "\n",
        "with circuit.if_test((cr[3], 0)):  # If cr[3] == 0\n",
        "    with circuit.if_test((cr[4], 1)):  # If cr[4] == 1\n",
        "      circuit.x(qr[2])  #  Correct q_2\n",
        "\n",
        "# Step 8: Barrier before final measurement\n",
        "circuit.barrier([qr[0], qr[1], qr[2]])\n",
        "\n",
        "# Step 9: Final measurement (moved to the very end)\n",
        "circuit.measure([qr[0], qr[1], qr[2]], [cr[0], cr[1], cr[2]])\n",
        "\n",
        "# Print the corrected circuit\n",
        "print(circuit)\n"
      ],
      "metadata": {
        "colab": {
          "base_uri": "https://localhost:8080/"
        },
        "id": "NJ9kbhKQeKHB",
        "outputId": "6eb573e8-4178-48b9-f709-377593e1b322"
      },
      "execution_count": null,
      "outputs": [
        {
          "output_type": "stream",
          "name": "stdout",
          "text": [
            "     ┌───┐                                              ┌──────             »\n",
            "q_0: ┤ X ├──■────■─────────■────────────────────────────┤       ────────────»\n",
            "     └───┘┌─┴─┐  │         │                            │ If-0     ┌──────  »\n",
            "q_1: ─────┤ X ├──┼─────────┼────■────■──────────────────┤       ───┤ If-1  ─»\n",
            "          └───┘┌─┴─┐┌───┐  │    │    │                  └──╥───    └──╥───  »\n",
            "q_2: ──────────┤ X ├┤ X ├──┼────┼────┼────■────────────────╫──────────╫─────»\n",
            "               └───┘└───┘┌─┴─┐┌─┴─┐  │    │   ░ ┌─┐        ║          ║     »\n",
            "q_3: ────────────────────┤ X ├┤ X ├──┼────┼───░─┤M├────────╫──────────╫─────»\n",
            "                         └───┘└───┘┌─┴─┐┌─┴─┐ ░ └╥┘┌─┐     ║          ║     »\n",
            "q_4: ──────────────────────────────┤ X ├┤ X ├─░──╫─┤M├─────╫──────────╫─────»\n",
            "                                   └───┘└───┘ ░  ║ └╥┘┌────╨────┐┌────╨────┐»\n",
            "c: 5/════════════════════════════════════════════╩══╩═╡ c_3=0x1 ╞╡ c_4=0x1 ╞»\n",
            "                                                 3  4 └─────────┘└─────────┘»\n",
            "«                      ┌──────  ┌───┐ ───────┐  ───────┐                       »\n",
            "«q_0: ─────────────────┤ If-1  ─┤ X ├  End-1 ├─        ├───────────────────────»\n",
            "«     ┌───┐ ───────┐   └──╥───  └───┘ ───────┘   End-0 │                       »\n",
            "«q_1: ┤ X ├  End-1 ├──────╫────────────────────        ├───────────────────────»\n",
            "«     └───┘ ───────┘      ║                     ───────┘   ┌──────    ┌──────  »\n",
            "«q_2: ────────────────────╫────────────────────────────────┤ If-0  ───┤ If-1  ─»\n",
            "«                         ║                                └──╥───    └──╥───  »\n",
            "«q_3: ────────────────────╫───────────────────────────────────╫──────────╫─────»\n",
            "«                         ║                                   ║          ║     »\n",
            "«q_4: ────────────────────╫───────────────────────────────────╫──────────╫─────»\n",
            "«                    ┌────╨────┐                         ┌────╨────┐┌────╨────┐»\n",
            "«c: 5/═══════════════╡ c_4=0x0 ╞═════════════════════════╡ c_3=0x0 ╞╡ c_4=0x1 ╞»\n",
            "«                    └─────────┘                         └─────────┘└─────────┘»\n",
            "«                               ░ ┌─┐      \n",
            "«q_0: ──────────────────────────░─┤M├──────\n",
            "«                               ░ └╥┘┌─┐   \n",
            "«q_1: ──────────────────────────░──╫─┤M├───\n",
            "«     ┌───┐ ───────┐  ───────┐  ░  ║ └╥┘┌─┐\n",
            "«q_2: ┤ X ├  End-1 ├─  End-0 ├──░──╫──╫─┤M├\n",
            "«     └───┘ ───────┘  ───────┘  ░  ║  ║ └╥┘\n",
            "«q_3: ─────────────────────────────╫──╫──╫─\n",
            "«                                  ║  ║  ║ \n",
            "«q_4: ─────────────────────────────╫──╫──╫─\n",
            "«                                  ║  ║  ║ \n",
            "«c: 5/═════════════════════════════╩══╩══╩═\n",
            "«                                  0  1  2 \n"
          ]
        }
      ]
    },
    {
      "cell_type": "code",
      "source": [
        "# Transpile for simulator\n",
        "simulator = AerSimulator()\n",
        "circuit = transpile(circuit, simulator)\n",
        "\n",
        "# Run and get counts\n",
        "result = simulator.run(circuit).result()\n",
        "counts = result.get_counts(circuit)\n",
        "plot_histogram(counts, title='Bell-State counts')"
      ],
      "metadata": {
        "colab": {
          "base_uri": "https://localhost:8080/",
          "height": 485
        },
        "id": "cz_PsGI9eb-u",
        "outputId": "cfb08722-2270-4d8c-a622-7c115cffa1ce"
      },
      "execution_count": null,
      "outputs": [
        {
          "output_type": "execute_result",
          "data": {
            "text/plain": [
              "<Figure size 640x480 with 1 Axes>"
            ],
            "image/png": "[encoded data removed]"
          },
          "metadata": {},
          "execution_count": 48
        }
      ]
    },
    {
      "cell_type": "markdown",
      "source": [
        "## State |y> = alfa * |000> + beta * |111>"
      ],
      "metadata": {
        "id": "zVFECMbBeerb"
      }
    },
    {
      "source": [
        "from qiskit import QuantumCircuit, QuantumRegister, ClassicalRegister\n",
        "\n",
        "# Create a 5-qubit circuit (3 data + 2 ancilla for error detection and correction)\n",
        "qr = QuantumRegister(5, 'q')  # Quantum register with 5 qubits\n",
        "cr = ClassicalRegister(5, 'c')  # Classical register with 5 classical bits\n",
        "circuit = QuantumCircuit(qr, cr)\n",
        "\n",
        "# Step 1: Initialize q0 in an arbitrary state\n",
        "theta = 0.5\n",
        "circuit.ry(2 * theta, qr[0])  # Create superposition state\n",
        "\n",
        "# Step 2: Encode into three-qubit entangled state\n",
        "circuit.cx(qr[0], qr[1])  # CNOT from q0 to q1\n",
        "circuit.cx(qr[0], qr[2])  # CNOT from q0 to q2\n",
        "\n",
        "# Step 3: Simulated error (choose one qubit to introduce an error)\n",
        "#circuit.x(qr[0])\n",
        "#circuit.x(qr[1])\n",
        "circuit.x(qr[2])\n",
        "\n",
        "\n",
        "# Step 4: Syndrome measurement to detect errors\n",
        "circuit.cx(qr[0], qr[3])\n",
        "circuit.cx(qr[1], qr[3])\n",
        "circuit.cx(qr[1], qr[4])\n",
        "circuit.cx(qr[2], qr[4])\n",
        "\n",
        "# Step 5: Barrier before measurement\n",
        "circuit.barrier([qr[3], qr[4]])\n",
        "\n",
        "# Step 6: Measure the ancilla qubits (syndrome extraction)\n",
        "circuit.measure([qr[3], qr[4]], [cr[3], cr[4]])\n",
        "\n",
        "# Step 7: Apply correction based on measured syndrome\n",
        "with circuit.if_test((cr[3], 1)):  # If cr[3] == 1\n",
        "    with circuit.if_test((cr[4], 1)):  # If cr[4] == 1\n",
        "        circuit.x(qr[1])  #  Correct q1\n",
        "    with circuit.if_test((cr[4], 0)):  # If cr[4] == 0\n",
        "         circuit.x(qr[0])  # Correct q_0\n",
        "\n",
        "with circuit.if_test((cr[3], 0)):  # If cr[3] == 0\n",
        "    with circuit.if_test((cr[4], 1)):  # If cr[4] == 1\n",
        "      circuit.x(qr[2])  #  Correct q_2\n",
        "\n",
        "# Step 8: Barrier before final measurement\n",
        "circuit.barrier([qr[0], qr[1], qr[2]])\n",
        "\n",
        "# Step 9: Final measurement (moved to the very end)\n",
        "circuit.measure([qr[0], qr[1], qr[2]], [cr[0], cr[1], cr[2]])\n",
        "\n",
        "# Print the corrected circuit\n",
        "print(circuit)"
      ],
      "cell_type": "code",
      "metadata": {
        "colab": {
          "base_uri": "https://localhost:8080/"
        },
        "id": "kKVS1f-yHWTD",
        "outputId": "5e1c4972-176a-4a43-9a44-52dd34e049c4"
      },
      "execution_count": null,
      "outputs": [
        {
          "output_type": "stream",
          "name": "stdout",
          "text": [
            "     ┌───────┐                                              ┌──────  »\n",
            "q_0: ┤ Ry(1) ├──■────■─────────■────────────────────────────┤       ─»\n",
            "     └───────┘┌─┴─┐  │         │                            │ If-0   »\n",
            "q_1: ─────────┤ X ├──┼─────────┼────■────■──────────────────┤       ─»\n",
            "              └───┘┌─┴─┐┌───┐  │    │    │                  └──╥───  »\n",
            "q_2: ──────────────┤ X ├┤ X ├──┼────┼────┼────■────────────────╫─────»\n",
            "                   └───┘└───┘┌─┴─┐┌─┴─┐  │    │   ░ ┌─┐        ║     »\n",
            "q_3: ────────────────────────┤ X ├┤ X ├──┼────┼───░─┤M├────────╫─────»\n",
            "                             └───┘└───┘┌─┴─┐┌─┴─┐ ░ └╥┘┌─┐     ║     »\n",
            "q_4: ──────────────────────────────────┤ X ├┤ X ├─░──╫─┤M├─────╫─────»\n",
            "                                       └───┘└───┘ ░  ║ └╥┘┌────╨────┐»\n",
            "c: 5/════════════════════════════════════════════════╩══╩═╡ c_3=0x1 ╞»\n",
            "                                                     3  4 └─────────┘»\n",
            "«                                 ┌──────  ┌───┐ ───────┐  ───────┐            »\n",
            "«q_0: ────────────────────────────┤ If-1  ─┤ X ├  End-1 ├─        ├────────────»\n",
            "«       ┌──────  ┌───┐ ───────┐   └──╥───  └───┘ ───────┘   End-0 │            »\n",
            "«q_1: ──┤ If-1  ─┤ X ├  End-1 ├──────╫────────────────────        ├────────────»\n",
            "«       └──╥───  └───┘ ───────┘      ║                     ───────┘   ┌──────  »\n",
            "«q_2: ─────╫─────────────────────────╫────────────────────────────────┤ If-0  ─»\n",
            "«          ║                         ║                                └──╥───  »\n",
            "«q_3: ─────╫─────────────────────────╫───────────────────────────────────╫─────»\n",
            "«          ║                         ║                                   ║     »\n",
            "«q_4: ─────╫─────────────────────────╫───────────────────────────────────╫─────»\n",
            "«     ┌────╨────┐               ┌────╨────┐                         ┌────╨────┐»\n",
            "«c: 5/╡ c_4=0x1 ╞═══════════════╡ c_4=0x0 ╞═════════════════════════╡ c_3=0x0 ╞»\n",
            "«     └─────────┘               └─────────┘                         └─────────┘»\n",
            "«                                          ░ ┌─┐      \n",
            "«q_0: ─────────────────────────────────────░─┤M├──────\n",
            "«                                          ░ └╥┘┌─┐   \n",
            "«q_1: ─────────────────────────────────────░──╫─┤M├───\n",
            "«       ┌──────  ┌───┐ ───────┐  ───────┐  ░  ║ └╥┘┌─┐\n",
            "«q_2: ──┤ If-1  ─┤ X ├  End-1 ├─  End-0 ├──░──╫──╫─┤M├\n",
            "«       └──╥───  └───┘ ───────┘  ───────┘  ░  ║  ║ └╥┘\n",
            "«q_3: ─────╫──────────────────────────────────╫──╫──╫─\n",
            "«          ║                                  ║  ║  ║ \n",
            "«q_4: ─────╫──────────────────────────────────╫──╫──╫─\n",
            "«     ┌────╨────┐                             ║  ║  ║ \n",
            "«c: 5/╡ c_4=0x1 ╞═════════════════════════════╩══╩══╩═\n",
            "«     └─────────┘                             0  1  2 \n"
          ]
        }
      ]
    },
    {
      "cell_type": "code",
      "source": [
        "# Transpile for simulator\n",
        "simulator = AerSimulator()\n",
        "circuit = transpile(circuit, simulator)\n",
        "\n",
        "# Run and get counts\n",
        "result = simulator.run(circuit).result()\n",
        "counts = result.get_counts(circuit)\n",
        "plot_histogram(counts, title='Bell-State counts')"
      ],
      "metadata": {
        "colab": {
          "base_uri": "https://localhost:8080/",
          "height": 485
        },
        "id": "TUHs1kSZJ6F4",
        "outputId": "15264dc8-7b69-4294-e164-958b978b6a9b"
      },
      "execution_count": null,
      "outputs": [
        {
          "output_type": "execute_result",
          "data": {
            "text/plain": [
              "<Figure size 640x480 with 1 Axes>"
            ],
            "image/png": "[encoded data removed]"
          },
          "metadata": {},
          "execution_count": 50
        }
      ]
    },
    {
      "cell_type": "markdown",
      "source": [
        "## Result"
      ],
      "metadata": {
        "id": "LVzSFnB_Tz6S"
      }
    },
    {
      "cell_type": "markdown",
      "source": [
        "In this experiment, I successfully implemented a quantum error correction scheme that detects and corrects bit-flip errors. The results show that the final measurement outcomes are always either ∣000⟩∣000⟩ or ∣111⟩∣111⟩, confirming that the encoded logical qubit remains in a valid state despite introducing an error.\n",
        "\n",
        "I started by encoding an initial superposition state into a three-qubit entangled state.\n",
        "\n",
        "I intentionally introduced a bit-flip error on one of the data qubits (q2q2​) to test the error detection and correction mechanism.\n",
        "\n",
        "Using syndrome measurements with the ancilla qubits (q3,q4q3​,q4​), I was able to detect the error.\n",
        "\n",
        "Based on the measured syndrome, I applied the appropriate error correction using conditional gates.\n",
        "\n",
        "The final measurement verified that my correction worked, as the output state was always either ∣000⟩∣000⟩ or ∣111⟩∣111⟩, ensuring the logical qubit’s integrity.\n",
        "\n",
        "This confirms that my quantum error correction strategy effectively mitigates errors, which is a crucial step in building reliable quantum computing systems."
      ],
      "metadata": {
        "id": "C22njSru7cgZ"
      }
    },
    {
      "cell_type": "markdown",
      "source": [
        "# PHASE ERROR"
      ],
      "metadata": {
        "id": "2ZeU2Rr3TtoU"
      }
    },
    {
      "cell_type": "markdown",
      "source": [
        "## State |y> = alfa * |000> + beta * |111>"
      ],
      "metadata": {
        "id": "sOEQukyFb7b6"
      }
    },
    {
      "cell_type": "code",
      "source": [
        "from qiskit import QuantumCircuit, QuantumRegister, ClassicalRegister, transpile\n",
        "from qiskit_aer import AerSimulator\n",
        "from qiskit.visualization import plot_histogram\n",
        "from qiskit.quantum_info import Statevector\n",
        "import numpy as np\n",
        "\n",
        "# Step 0: Create registers and circuit (3 data qubits + 2 ancilla)\n",
        "qr = QuantumRegister(5, 'q')\n",
        "cr = ClassicalRegister(5, 'c')\n",
        "circuit = QuantumCircuit(qr, cr)\n",
        "\n",
        "# Step 1: Initialize q0 in an arbitrary state\n",
        "theta = 0.5\n",
        "circuit.ry(2 * theta, qr[0])  # Put q0 into superposition\n",
        "\n",
        "# Step 2: Encode using repetition code\n",
        "circuit.cx(qr[0], qr[1])\n",
        "circuit.cx(qr[0], qr[2])\n",
        "\n",
        "# Step 3: Apply Hadamard to all 3 data qubits (convert phase flips into bit flips)\n",
        "circuit.h(qr[0])\n",
        "circuit.h(qr[1])\n",
        "circuit.h(qr[2])\n",
        "\n",
        "# Step 4: Simulate a phase error on one qubit (e.g., q0)\n",
        "circuit.z(qr[0])\n",
        "\n",
        "\n",
        "# Step 5: Undo Hadamard (revert to bit-flip detection basis)\n",
        "circuit.h(qr[0])\n",
        "circuit.h(qr[1])\n",
        "circuit.h(qr[2])\n",
        "\n",
        "# Step 6: Syndrome extraction via ancilla\n",
        "circuit.cx(qr[0], qr[3])\n",
        "circuit.cx(qr[1], qr[3])\n",
        "circuit.cx(qr[1], qr[4])\n",
        "circuit.cx(qr[2], qr[4])\n",
        "\n",
        "# Step 7: Barrier and syndrome measurement\n",
        "circuit.barrier([qr[3], qr[4]])\n",
        "circuit.measure(qr[3], cr[3])\n",
        "circuit.measure(qr[4], cr[4])\n",
        "\n",
        "# Step 8: Apply correction using classical control flow\n",
        "with circuit.if_test((cr[3], 1)):\n",
        "    with circuit.if_test((cr[4], 1)):\n",
        "        circuit.x(qr[1])  # Correct q1\n",
        "    with circuit.if_test((cr[4], 0)):\n",
        "        circuit.x(qr[0])  # Correct q0\n",
        "with circuit.if_test((cr[3], 0)):\n",
        "    with circuit.if_test((cr[4], 1)):\n",
        "        circuit.x(qr[2])  # Correct q2\n",
        "\n",
        "# Step 9: Final barrier and data measurement\n",
        "circuit.barrier([qr[0], qr[1], qr[2]])\n",
        "circuit.measure([qr[0], qr[1], qr[2]], [cr[0], cr[1], cr[2]])\n",
        "\n",
        "# Print the circuit\n",
        "print(\"\\n=== Quantum Error Correction Circuit ===\")\n",
        "print(circuit)\n"
      ],
      "metadata": {
        "colab": {
          "base_uri": "https://localhost:8080/"
        },
        "id": "myaE1PZ7TxJf",
        "outputId": "9492726f-2f75-4d68-d121-3b0a9fc3a667"
      },
      "execution_count": 21,
      "outputs": [
        {
          "output_type": "stream",
          "name": "stdout",
          "text": [
            "\n",
            "=== Quantum Error Correction Circuit ===\n",
            "     ┌───────┐          ┌───┐┌───┐┌───┐                               ┌──────  »\n",
            "q_0: ┤ Ry(1) ├──■────■──┤ H ├┤ Z ├┤ H ├──■────────────────────────────┤       ─»\n",
            "     └───────┘┌─┴─┐  │  ├───┤├───┤└───┘  │                            │ If-0   »\n",
            "q_1: ─────────┤ X ├──┼──┤ H ├┤ H ├───────┼────■────■──────────────────┤       ─»\n",
            "              └───┘┌─┴─┐├───┤├───┤       │    │    │                  └──╥───  »\n",
            "q_2: ──────────────┤ X ├┤ H ├┤ H ├───────┼────┼────┼────■────────────────╫─────»\n",
            "                   └───┘└───┘└───┘     ┌─┴─┐┌─┴─┐  │    │   ░ ┌─┐        ║     »\n",
            "q_3: ──────────────────────────────────┤ X ├┤ X ├──┼────┼───░─┤M├────────╫─────»\n",
            "                                       └───┘└───┘┌─┴─┐┌─┴─┐ ░ └╥┘┌─┐     ║     »\n",
            "q_4: ────────────────────────────────────────────┤ X ├┤ X ├─░──╫─┤M├─────╫─────»\n",
            "                                                 └───┘└───┘ ░  ║ └╥┘┌────╨────┐»\n",
            "c: 5/══════════════════════════════════════════════════════════╩══╩═╡ c_3=0x1 ╞»\n",
            "                                                               3  4 └─────────┘»\n",
            "«                                 ┌──────  ┌───┐ ───────┐  ───────┐            »\n",
            "«q_0: ────────────────────────────┤ If-1  ─┤ X ├  End-1 ├─        ├────────────»\n",
            "«       ┌──────  ┌───┐ ───────┐   └──╥───  └───┘ ───────┘   End-0 │            »\n",
            "«q_1: ──┤ If-1  ─┤ X ├  End-1 ├──────╫────────────────────        ├────────────»\n",
            "«       └──╥───  └───┘ ───────┘      ║                     ───────┘   ┌──────  »\n",
            "«q_2: ─────╫─────────────────────────╫────────────────────────────────┤ If-0  ─»\n",
            "«          ║                         ║                                └──╥───  »\n",
            "«q_3: ─────╫─────────────────────────╫───────────────────────────────────╫─────»\n",
            "«          ║                         ║                                   ║     »\n",
            "«q_4: ─────╫─────────────────────────╫───────────────────────────────────╫─────»\n",
            "«     ┌────╨────┐               ┌────╨────┐                         ┌────╨────┐»\n",
            "«c: 5/╡ c_4=0x1 ╞═══════════════╡ c_4=0x0 ╞═════════════════════════╡ c_3=0x0 ╞»\n",
            "«     └─────────┘               └─────────┘                         └─────────┘»\n",
            "«                                          ░ ┌─┐      \n",
            "«q_0: ─────────────────────────────────────░─┤M├──────\n",
            "«                                          ░ └╥┘┌─┐   \n",
            "«q_1: ─────────────────────────────────────░──╫─┤M├───\n",
            "«       ┌──────  ┌───┐ ───────┐  ───────┐  ░  ║ └╥┘┌─┐\n",
            "«q_2: ──┤ If-1  ─┤ X ├  End-1 ├─  End-0 ├──░──╫──╫─┤M├\n",
            "«       └──╥───  └───┘ ───────┘  ───────┘  ░  ║  ║ └╥┘\n",
            "«q_3: ─────╫──────────────────────────────────╫──╫──╫─\n",
            "«          ║                                  ║  ║  ║ \n",
            "«q_4: ─────╫──────────────────────────────────╫──╫──╫─\n",
            "«     ┌────╨────┐                             ║  ║  ║ \n",
            "«c: 5/╡ c_4=0x1 ╞═════════════════════════════╩══╩══╩═\n",
            "«     └─────────┘                             0  1  2 \n"
          ]
        }
      ]
    },
    {
      "cell_type": "code",
      "source": [
        "# Simulate the state before any measurement (exclude classical logic)\n",
        "pre_measurement_circuit = QuantumCircuit(qr)\n",
        "pre_measurement_circuit.ry(2 * theta, qr[0])\n",
        "pre_measurement_circuit.cx(qr[0], qr[1])\n",
        "pre_measurement_circuit.cx(qr[0], qr[2])\n",
        "pre_measurement_circuit.h(qr[0])\n",
        "pre_measurement_circuit.h(qr[1])\n",
        "pre_measurement_circuit.h(qr[2])\n",
        "pre_measurement_circuit.p(np.pi / 2, qr[0])\n",
        "pre_measurement_circuit.h(qr[0])\n",
        "pre_measurement_circuit.h(qr[1])\n",
        "pre_measurement_circuit.h(qr[2])\n",
        "pre_measurement_circuit.cx(qr[0], qr[3])\n",
        "pre_measurement_circuit.cx(qr[1], qr[3])\n",
        "pre_measurement_circuit.cx(qr[1], qr[4])\n",
        "pre_measurement_circuit.cx(qr[2], qr[4])\n",
        "\n",
        "# Analyze quantum state\n",
        "state = Statevector.from_instruction(pre_measurement_circuit)\n",
        "amplitudes = state.data\n",
        "print(\"\\n=== Quantum State Before Measurement ===\")\n",
        "for i, amp in enumerate(amplitudes):\n",
        "    if np.abs(amp) > 1e-6:\n",
        "        bitstring = format(i, '05b')\n",
        "        phase = np.angle(amp)\n",
        "        print(f\"|{bitstring}>: Amplitude = {amp:.4f}, Phase = {phase:.3f} rad\")\n"
      ],
      "metadata": {
        "colab": {
          "base_uri": "https://localhost:8080/"
        },
        "id": "_i634kf1UWxr",
        "outputId": "0eefdb1e-3b21-492a-cc25-91886694fa20"
      },
      "execution_count": 22,
      "outputs": [
        {
          "output_type": "stream",
          "name": "stdout",
          "text": [
            "\n",
            "=== Quantum State Before Measurement ===\n",
            "|00000>: Amplitude = 0.4388+0.4388j, Phase = 0.785 rad\n",
            "|00111>: Amplitude = 0.2397+0.2397j, Phase = 0.785 rad\n",
            "|01001>: Amplitude = 0.4388-0.4388j, Phase = -0.785 rad\n",
            "|01110>: Amplitude = 0.2397-0.2397j, Phase = -0.785 rad\n"
          ]
        }
      ]
    },
    {
      "source": [
        "# Use AerSimulator to run full circuit with classical conditionals\n",
        "simulator = AerSimulator()\n",
        "compiled_circuit = transpile(circuit, simulator)\n",
        "result = simulator.run(compiled_circuit).result()\n",
        "\n",
        "# Extract and plot final measurement counts\n",
        "counts = result.get_counts()\n",
        "plot_histogram(counts, title=\"Final Measurement After Error Correction\")\n"
      ],
      "cell_type": "code",
      "metadata": {
        "colab": {
          "base_uri": "https://localhost:8080/",
          "height": 485
        },
        "id": "f-gDHhWFXqvE",
        "outputId": "c2580326-80ca-4bf3-eecd-c569327812a9"
      },
      "execution_count": 23,
      "outputs": [
        {
          "output_type": "execute_result",
          "data": {
            "text/plain": [
              "<Figure size 640x480 with 1 Axes>"
            ],
            "image/png": "[encoded data removed]"
          },
          "metadata": {},
          "execution_count": 23
        }
      ]
    },
    {
      "cell_type": "markdown",
      "source": [
        "## result"
      ],
      "metadata": {
        "id": "vLaAj0DkcBDC"
      }
    },
    {
      "cell_type": "markdown",
      "source": [
        "In this experiment, I implemented a quantum error correction strategy capable of detecting and correcting bit-phase (Z-type) errors. Unlike pure bit-flip errors, phase errors introduce a shift in the relative phase between |0⟩ and |1⟩, which can be harder to detect directly using standard bit-flip detection.\n",
        "\n",
        "To address this, I used Hadamard gates to convert the phase error into an equivalent bit-flip error, using the following identity:\n",
        "H⋅Z⋅H=X\n",
        "H⋅Z⋅H=X\n",
        "\n",
        "This transformation enabled me to use the same syndrome detection logic (based on CNOT gates and ancilla qubits) as in the bit-flip error correction scheme.\n",
        "\n",
        "I applied a phase-flip error (Z gate) to one of the data qubits (q0). Then, using ancilla qubits (q3, q4), I performed syndrome extraction via entanglement. The measurement outcome of the ancilla qubits determined the error location, and the corresponding correction was applied using conditional X gates.\n",
        "✅ Results\n",
        "\n",
        "The final measurement outcomes of the data qubits were:\n",
        "\n",
        "    |000⟩ → representing the logical 0\n",
        "\n",
        "    |111⟩ → representing the logical 1\n",
        "\n",
        "These outcomes indicate that the encoded logical qubit was successfully restored to a valid state, despite the presence of a bit-phase error. This confirms that the quantum error correction strategy effectively detected and corrected the error, preserving the integrity of the logical qubit."
      ],
      "metadata": {
        "id": "v8am2tSfc3-z"
      }
    }
  ]
}